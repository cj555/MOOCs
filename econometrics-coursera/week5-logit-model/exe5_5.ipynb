{
 "cells": [
  {
   "cell_type": "code",
   "execution_count": 35,
   "metadata": {
    "collapsed": false
   },
   "outputs": [
    {
     "data": {
      "text/html": [
       "<div>\n",
       "<table border=\"1\" class=\"dataframe\">\n",
       "  <thead>\n",
       "    <tr style=\"text-align: right;\">\n",
       "      <th></th>\n",
       "      <th>id</th>\n",
       "      <th>response</th>\n",
       "      <th>male</th>\n",
       "      <th>activite</th>\n",
       "      <th>age</th>\n",
       "    </tr>\n",
       "  </thead>\n",
       "  <tbody>\n",
       "    <tr>\n",
       "      <th>0</th>\n",
       "      <td>2</td>\n",
       "      <td>1</td>\n",
       "      <td>1</td>\n",
       "      <td>0</td>\n",
       "      <td>50</td>\n",
       "    </tr>\n",
       "    <tr>\n",
       "      <th>1</th>\n",
       "      <td>3</td>\n",
       "      <td>1</td>\n",
       "      <td>1</td>\n",
       "      <td>0</td>\n",
       "      <td>40</td>\n",
       "    </tr>\n",
       "    <tr>\n",
       "      <th>2</th>\n",
       "      <td>4</td>\n",
       "      <td>1</td>\n",
       "      <td>1</td>\n",
       "      <td>0</td>\n",
       "      <td>36</td>\n",
       "    </tr>\n",
       "    <tr>\n",
       "      <th>3</th>\n",
       "      <td>5</td>\n",
       "      <td>1</td>\n",
       "      <td>1</td>\n",
       "      <td>0</td>\n",
       "      <td>28</td>\n",
       "    </tr>\n",
       "    <tr>\n",
       "      <th>4</th>\n",
       "      <td>6</td>\n",
       "      <td>1</td>\n",
       "      <td>1</td>\n",
       "      <td>0</td>\n",
       "      <td>70</td>\n",
       "    </tr>\n",
       "  </tbody>\n",
       "</table>\n",
       "</div>"
      ],
      "text/plain": [
       "   id  response  male  activite  age\n",
       "0   2         1     1         0   50\n",
       "1   3         1     1         0   40\n",
       "2   4         1     1         0   36\n",
       "3   5         1     1         0   28\n",
       "4   6         1     1         0   70"
      ]
     },
     "execution_count": 35,
     "metadata": {},
     "output_type": "execute_result"
    }
   ],
   "source": [
    "from patsy import dmatrices\n",
    "import pandas as pd\n",
    "from sklearn.linear_model import LogisticRegression\n",
    "import statsmodels.discrete.discrete_model as sm\n",
    "\n",
    "\n",
    "# read in the data & create matrices\n",
    "dat = pd.read_csv(\"data/TrainExer5-5-2.txt\",\\\n",
    "                  sep = '\\t')\n",
    "\n",
    "dat.columns = ['id','response','male','activite','age']\n",
    "\n",
    "dat.head()"
   ]
  },
  {
   "cell_type": "code",
   "execution_count": 44,
   "metadata": {
    "collapsed": false
   },
   "outputs": [
    {
     "name": "stdout",
     "output_type": "stream",
     "text": [
      "   response_0  response_1\n",
      "0         0.0         1.0\n",
      "1         0.0         1.0\n",
      "2         0.0         1.0\n",
      "3         0.0         1.0\n",
      "4         0.0         1.0\n"
     ]
    }
   ],
   "source": [
    "dummy_response = pd.get_dummies(dat['response'], prefix='response')\n",
    "print dummy_response.head()"
   ]
  },
  {
   "cell_type": "code",
   "execution_count": 60,
   "metadata": {
    "collapsed": false
   },
   "outputs": [
    {
     "name": "stdout",
     "output_type": "stream",
     "text": [
      "[[ 0.96679321  0.91755598  0.06843405 -0.06736053]]\n",
      "Optimization terminated successfully.\n",
      "         Current function value: 0.650135\n",
      "         Iterations 5\n"
     ]
    },
    {
     "name": "stderr",
     "output_type": "stream",
     "text": [
      "/Users/CJ/anaconda/lib/python2.7/site-packages/ipykernel/__main__.py:12: SettingWithCopyWarning: \n",
      "A value is trying to be set on a copy of a slice from a DataFrame.\n",
      "Try using .loc[row_indexer,col_indexer] = value instead\n",
      "\n",
      "See the caveats in the documentation: http://pandas.pydata.org/pandas-docs/stable/indexing.html#indexing-view-versus-copy\n"
     ]
    },
    {
     "data": {
      "text/html": [
       "<table class=\"simpletable\">\n",
       "<caption>Logit Regression Results</caption>\n",
       "<tr>\n",
       "  <th>Dep. Variable:</th>     <td>response</td>     <th>  No. Observations:  </th>  <td>   924</td>  \n",
       "</tr>\n",
       "<tr>\n",
       "  <th>Model:</th>               <td>Logit</td>      <th>  Df Residuals:      </th>  <td>   919</td>  \n",
       "</tr>\n",
       "<tr>\n",
       "  <th>Method:</th>               <td>MLE</td>       <th>  Df Model:          </th>  <td>     4</td>  \n",
       "</tr>\n",
       "<tr>\n",
       "  <th>Date:</th>          <td>Fri, 16 Sep 2016</td> <th>  Pseudo R-squ.:     </th>  <td>0.06190</td> \n",
       "</tr>\n",
       "<tr>\n",
       "  <th>Time:</th>              <td>10:46:07</td>     <th>  Log-Likelihood:    </th> <td> -600.73</td> \n",
       "</tr>\n",
       "<tr>\n",
       "  <th>converged:</th>           <td>True</td>       <th>  LL-Null:           </th> <td> -640.36</td> \n",
       "</tr>\n",
       "<tr>\n",
       "  <th> </th>                      <td> </td>        <th>  LLR p-value:       </th> <td>2.482e-16</td>\n",
       "</tr>\n",
       "</table>\n",
       "<table class=\"simpletable\">\n",
       "<tr>\n",
       "      <td></td>         <th>coef</th>     <th>std err</th>      <th>z</th>      <th>P>|z|</th> <th>[95.0% Conf. Int.]</th> \n",
       "</tr>\n",
       "<tr>\n",
       "  <th>male</th>      <td>    0.9668</td> <td>    0.159</td> <td>    6.093</td> <td> 0.000</td> <td>    0.656     1.278</td>\n",
       "</tr>\n",
       "<tr>\n",
       "  <th>activite</th>  <td>    0.9176</td> <td>    0.185</td> <td>    4.963</td> <td> 0.000</td> <td>    0.555     1.280</td>\n",
       "</tr>\n",
       "<tr>\n",
       "  <th>age</th>       <td>    0.0684</td> <td>    0.036</td> <td>    1.921</td> <td> 0.055</td> <td>   -0.001     0.138</td>\n",
       "</tr>\n",
       "<tr>\n",
       "  <th>age2</th>      <td>   -0.0674</td> <td>    0.034</td> <td>   -1.975</td> <td> 0.048</td> <td>   -0.134    -0.001</td>\n",
       "</tr>\n",
       "<tr>\n",
       "  <th>intercept</th> <td>   -2.4619</td> <td>    0.890</td> <td>   -2.766</td> <td> 0.006</td> <td>   -4.207    -0.717</td>\n",
       "</tr>\n",
       "</table>"
      ],
      "text/plain": [
       "<class 'statsmodels.iolib.summary.Summary'>\n",
       "\"\"\"\n",
       "                           Logit Regression Results                           \n",
       "==============================================================================\n",
       "Dep. Variable:               response   No. Observations:                  924\n",
       "Model:                          Logit   Df Residuals:                      919\n",
       "Method:                           MLE   Df Model:                            4\n",
       "Date:                Fri, 16 Sep 2016   Pseudo R-squ.:                 0.06190\n",
       "Time:                        10:46:07   Log-Likelihood:                -600.73\n",
       "converged:                       True   LL-Null:                       -640.36\n",
       "                                        LLR p-value:                 2.482e-16\n",
       "==============================================================================\n",
       "                 coef    std err          z      P>|z|      [95.0% Conf. Int.]\n",
       "------------------------------------------------------------------------------\n",
       "male           0.9668      0.159      6.093      0.000         0.656     1.278\n",
       "activite       0.9176      0.185      4.963      0.000         0.555     1.280\n",
       "age            0.0684      0.036      1.921      0.055        -0.001     0.138\n",
       "age2          -0.0674      0.034     -1.975      0.048        -0.134    -0.001\n",
       "intercept     -2.4619      0.890     -2.766      0.006        -4.207    -0.717\n",
       "==============================================================================\n",
       "\"\"\""
      ]
     },
     "execution_count": 60,
     "metadata": {},
     "output_type": "execute_result"
    }
   ],
   "source": [
    "# TODO: coeffients from sklearn.linear_model and statsmodel are different!!!\n",
    "# sklearn output\n",
    "model = LogisticRegression(fit_intercept = True, C = 1e9)\n",
    "dat['age2'] = (dat['age']*0.1) ** 2\n",
    "X = dat[['male', 'activite','age','age2']]\n",
    "y = dat['response']\n",
    "mdl = model.fit(X, y)\n",
    "print model.coef_\n",
    "\n",
    "\n",
    "# sm\n",
    "X['intercept'] = 1.0 # manually add intercept\n",
    "logit = sm.Logit(y, X)\n",
    "sm_model = logit.fit()\n",
    "sm_model.summary()"
   ]
  },
  {
   "cell_type": "markdown",
   "metadata": {},
   "source": [
    "(c)Test the null hypothesis H0: β1 = β2 = 0 versus H1: no restrictions on β1 and β2, using a likelihood ratio test.\n",
    "\n",
    "**ans:**: \n",
    "\n",
    "Testing for a set of parameter restrictions\n",
    "We want to compare\n",
    "logit model without parameter restrictions and estimates b1\n",
    "logit model with m parameter restrictions and estimates b0\n",
    "The null hypothesis is that the m parameter restrictions are correct.\n",
    "To compute the test statistic we need\n",
    "L(b1): maximum likelihood value in full model\n",
    "L(b0): maximum likelihood value in restricted model\n",
    "Test statistic:\n",
    "$$ LR = −2(log(L(b_0)) − log(L(b_1))) ≈ χ^2(m)$$ \n",
    "where m is the number of restrictions."
   ]
  },
  {
   "cell_type": "code",
   "execution_count": 51,
   "metadata": {
    "collapsed": false
   },
   "outputs": [
    {
     "name": "stdout",
     "output_type": "stream",
     "text": [
      "Optimization terminated successfully.\n",
      "         Current function value: 0.687749\n",
      "         Iterations 4\n"
     ]
    },
    {
     "name": "stderr",
     "output_type": "stream",
     "text": [
      "/Users/CJ/anaconda/lib/python2.7/site-packages/ipykernel/__main__.py:5: SettingWithCopyWarning: \n",
      "A value is trying to be set on a copy of a slice from a DataFrame.\n",
      "Try using .loc[row_indexer,col_indexer] = value instead\n",
      "\n",
      "See the caveats in the documentation: http://pandas.pydata.org/pandas-docs/stable/indexing.html#indexing-view-versus-copy\n"
     ]
    },
    {
     "data": {
      "text/html": [
       "<table class=\"simpletable\">\n",
       "<caption>Logit Regression Results</caption>\n",
       "<tr>\n",
       "  <th>Dep. Variable:</th>     <td>response</td>     <th>  No. Observations:  </th>  <td>   924</td> \n",
       "</tr>\n",
       "<tr>\n",
       "  <th>Model:</th>               <td>Logit</td>      <th>  Df Residuals:      </th>  <td>   921</td> \n",
       "</tr>\n",
       "<tr>\n",
       "  <th>Method:</th>               <td>MLE</td>       <th>  Df Model:          </th>  <td>     2</td> \n",
       "</tr>\n",
       "<tr>\n",
       "  <th>Date:</th>          <td>Fri, 16 Sep 2016</td> <th>  Pseudo R-squ.:     </th> <td>0.007624</td>\n",
       "</tr>\n",
       "<tr>\n",
       "  <th>Time:</th>              <td>10:43:06</td>     <th>  Log-Likelihood:    </th> <td> -635.48</td>\n",
       "</tr>\n",
       "<tr>\n",
       "  <th>converged:</th>           <td>True</td>       <th>  LL-Null:           </th> <td> -640.36</td>\n",
       "</tr>\n",
       "<tr>\n",
       "  <th> </th>                      <td> </td>        <th>  LLR p-value:       </th> <td>0.007582</td>\n",
       "</tr>\n",
       "</table>\n",
       "<table class=\"simpletable\">\n",
       "<tr>\n",
       "      <td></td>         <th>coef</th>     <th>std err</th>      <th>z</th>      <th>P>|z|</th> <th>[95.0% Conf. Int.]</th> \n",
       "</tr>\n",
       "<tr>\n",
       "  <th>age</th>       <td>    0.1011</td> <td>    0.034</td> <td>    2.947</td> <td> 0.003</td> <td>    0.034     0.168</td>\n",
       "</tr>\n",
       "<tr>\n",
       "  <th>age2</th>      <td>   -0.0992</td> <td>    0.033</td> <td>   -3.021</td> <td> 0.003</td> <td>   -0.164    -0.035</td>\n",
       "</tr>\n",
       "<tr>\n",
       "  <th>intercept</th> <td>   -2.3686</td> <td>    0.860</td> <td>   -2.755</td> <td> 0.006</td> <td>   -4.054    -0.684</td>\n",
       "</tr>\n",
       "</table>"
      ],
      "text/plain": [
       "<class 'statsmodels.iolib.summary.Summary'>\n",
       "\"\"\"\n",
       "                           Logit Regression Results                           \n",
       "==============================================================================\n",
       "Dep. Variable:               response   No. Observations:                  924\n",
       "Model:                          Logit   Df Residuals:                      921\n",
       "Method:                           MLE   Df Model:                            2\n",
       "Date:                Fri, 16 Sep 2016   Pseudo R-squ.:                0.007624\n",
       "Time:                        10:43:06   Log-Likelihood:                -635.48\n",
       "converged:                       True   LL-Null:                       -640.36\n",
       "                                        LLR p-value:                  0.007582\n",
       "==============================================================================\n",
       "                 coef    std err          z      P>|z|      [95.0% Conf. Int.]\n",
       "------------------------------------------------------------------------------\n",
       "age            0.1011      0.034      2.947      0.003         0.034     0.168\n",
       "age2          -0.0992      0.033     -3.021      0.003        -0.164    -0.035\n",
       "intercept     -2.3686      0.860     -2.755      0.006        -4.054    -0.684\n",
       "==============================================================================\n",
       "\"\"\""
      ]
     },
     "execution_count": 51,
     "metadata": {},
     "output_type": "execute_result"
    }
   ],
   "source": [
    "# fit the restricted model without b1 and b2\n",
    "X = dat[['age','age2']]\n",
    "y = dat['response']\n",
    "\n",
    "X['intercept'] = 1.0 # manually add intercept\n",
    "logit = sm.Logit(y, X)\n",
    "model_restrict = logit.fit()\n",
    "model_restrict.summary()"
   ]
  },
  {
   "cell_type": "code",
   "execution_count": 62,
   "metadata": {
    "collapsed": false
   },
   "outputs": [
    {
     "data": {
      "text/plain": [
       "69.509659248478783"
      ]
     },
     "execution_count": 62,
     "metadata": {},
     "output_type": "execute_result"
    }
   ],
   "source": [
    "full = sm_model.llf\n",
    "restricted = model_restrict.llf\n",
    "LR = -2*(restricted - full)\n",
    "LR"
   ]
  },
  {
   "cell_type": "code",
   "execution_count": 65,
   "metadata": {
    "collapsed": false
   },
   "outputs": [
    {
     "data": {
      "text/plain": [
       "7.7715611723760958e-16"
      ]
     },
     "execution_count": 65,
     "metadata": {},
     "output_type": "execute_result"
    }
   ],
   "source": [
    "import scipy.stats as stats\n",
    "full_model = sm_model\n",
    "restricted_model = model_restrict\n",
    "df = full_model.df_model - restricted_model.df_model\n",
    "crit = stats.chi2.ppf(q = 0.95, # Find the critical value for 95% confidence*\n",
    "                      df = df)   # Df = number of variable categories - 1\n",
    "\n",
    "p_value = 1 - stats.chi2.cdf(x=LR,  # Find the p-value\n",
    "                             df=df)\n",
    "p_value"
   ]
  },
  {
   "cell_type": "code",
   "execution_count": 64,
   "metadata": {
    "collapsed": false
   },
   "outputs": [
    {
     "data": {
      "text/plain": [
       "5.9914645471079799"
      ]
     },
     "execution_count": 64,
     "metadata": {},
     "output_type": "execute_result"
    }
   ],
   "source": [
    "crit"
   ]
  },
  {
   "cell_type": "code",
   "execution_count": null,
   "metadata": {
    "collapsed": true
   },
   "outputs": [],
   "source": [
    ""
   ]
  }
 ],
 "metadata": {
  "kernelspec": {
   "display_name": "Python 2",
   "language": "python",
   "name": "python2"
  },
  "language_info": {
   "codemirror_mode": {
    "name": "ipython",
    "version": 2.0
   },
   "file_extension": ".py",
   "mimetype": "text/x-python",
   "name": "python",
   "nbconvert_exporter": "python",
   "pygments_lexer": "ipython2",
   "version": "2.7.11"
  }
 },
 "nbformat": 4,
 "nbformat_minor": 0
}
