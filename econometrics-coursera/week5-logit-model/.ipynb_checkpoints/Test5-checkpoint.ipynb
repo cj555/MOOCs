{
 "cells": [
  {
   "cell_type": "markdown",
   "metadata": {},
   "source": [
    "## Questions\n",
    "Consider again the application in lecture 5.5, where we have analyzed response to a direct mailing using the\n",
    "following logit specification\n",
    "\n",
    "$$ Pr[resp_i = 1] = \\frac{exp(β_0 + β_1male_i + β_2active_i + β_3age_i + β_4(age_i/10)^2)}{1 + exp(β_0 + β_1male_i + β_2active_i + β_3age_i + β_4(age_i/10)^2)}$$ \n",
    "\n",
    "for i = 1, . . . , 925. \n",
    "\n",
    "The maximum likelihood estimates of the parameters are given by\n",
    "Variable Coefficient Std. Error t-value p-value\n",
    "Intercept -2.488 0.890 -2.796 0.005\n",
    "Male 0.954 0.158 6.029 0.000\n",
    "Active 0.914 0.185 4.945 0.000\n",
    "Age 0.070 0.036 1.964 0.050\n",
    "(Age/10)2\n",
    "-0.069 0.034 -2.015 0.044\n",
    "\n"
   ]
  },
  {
   "cell_type": "markdown",
   "metadata": {},
   "source": [
    "(a) Show that \n",
    "$$ \\frac{∂ Pr[respi = 1]}{∂agei}+\\frac{∂ Pr[respi = 0]}{ ∂agei}= 0 $$ \n",
    "\n",
    "**ans:**\n",
    "\n",
    "$$ Pr[respi = 0] = 1- Pr[respi = 0] $$\n",
    "\n",
    "\n",
    "$$ \\frac{∂ Pr[respi = 1]}{∂agei} = - \\frac{∂ Pr[respi = 0]}{ ∂agei}$$\n",
    "then \n",
    "$$ \\frac{∂ Pr[respi = 1]}{∂agei}+\\frac{∂ Pr[respi = 0]}{ ∂agei}= 0 $$ "
   ]
  },
  {
   "cell_type": "markdown",
   "metadata": {},
   "source": [
    "(b) Assume that you recode the dependent variable as follows: \n",
    "$$respnew_i =−resp_i+1$$. \n",
    "Hence, positive response is now defined to be equal to zero and negative response to be equal to 1. Use the odds ratio to show that this transformation implies that the sign of all parameters change.\n",
    "\n",
    "**ans:**\n",
    "\n",
    "$$ odds = \\frac{Pr[resp_i^{new} = 1]}{Pr[resp_i^{new} = 0]} = \\frac{Pr[resp_i = 0]}{Pr[resp_i = 1]} $$ \n",
    "\n",
    "$$ e^{(β_0^{new} + β_1^{new}male_i + β_2^{new}active_i + β_3^{new}age_i + β_4^{new}(age_i/10)^2)} = e^{-(β_0 + β_1male_i + β_2active_i + β_3age_i + β_4(age_i/10)^2)}\n",
    "$$ \n",
    "then \n",
    "$$ β_0^{new} = β_0, β_1^{new} = β_1,β_2^{new} = β_2, β_3^{new} = β_3,β_4^{new} = β_4 $$ \n"
   ]
  },
  {
   "cell_type": "markdown",
   "metadata": {},
   "source": [
    "(c) Consider again the odds ratio positive response versus negative response:\n",
    "$$ \\frac{Pr[resp_i = 1]}{Pr[resp_i = 0]} = exp(β_0 + β_1male_i + β_2active_i + β_3age_i + β_4(age_i/10)^2) $$\n",
    "\n",
    "During lecture 5.5 you have seen that this odds ratio obtains its maximum value for age equal to 50 years for\n",
    "males as well as females. Suppose now that you want to extend the logit model and allow that this age value\n",
    "is possibly different for males than for females. Discuss how you can extend the logit specification.\n",
    "\n",
    "**ans:**\n",
    "create a dummy variables for female to count on the possible different for males and females. \n",
    "\n",
    "$$ \\frac{Pr[resp_i = 1]}{Pr[resp_i = 0]} = exp(β_0 + r_1male_i + β_2active_i + β_3age_i + β_4(age_i/10)^2 + r_2female_i ) $$\n"
   ]
  }
 ],
 "metadata": {
  "kernelspec": {
   "display_name": "Python 2",
   "language": "python",
   "name": "python2"
  },
  "language_info": {
   "codemirror_mode": {
    "name": "ipython",
    "version": 2
   },
   "file_extension": ".py",
   "mimetype": "text/x-python",
   "name": "python",
   "nbconvert_exporter": "python",
   "pygments_lexer": "ipython2",
   "version": "2.7.11"
  }
 },
 "nbformat": 4,
 "nbformat_minor": 0
}
