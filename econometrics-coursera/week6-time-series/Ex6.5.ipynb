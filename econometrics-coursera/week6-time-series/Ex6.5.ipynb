{
 "cells": [
  {
   "cell_type": "markdown",
   "metadata": {},
   "source": [
    "The datafile TrainExer65 contains yearly data on industrial production (IP) in the USA and on the Composite\n",
    "Leading Index (CLI), both in logarithms. The example in Lecture 6.5 considered monthly data, and now we consider\n",
    "yearly data, both for the two log-series and for their first differences that correspond to the yearly growth rates. The\n",
    "main question of interest is whether past values of the growth rate in CLI have predictive power for future growth\n",
    "rates of IP. We denote the yearly growth rates by GIP = ∆log(IP) and GCLI = ∆log(CLI).\n",
    "Note: In all questions, use 1960-2002 as estimation and test sample, and use 2003-2007 as hold-out forecast\n",
    "evaluation sample. That is, the data for 2003-2007 are nowhere used to estimate models or to perform tests, and\n",
    "these data are only used for forecast comparison in parts (e-g)."
   ]
  },
  {
   "cell_type": "markdown",
   "metadata": {},
   "source": [
    "#### Question(a) \n",
    "Make time series plots of log(IP) and log(CLI), and also of the yearly growth rates GIP and GCLI. What\n",
    "conclusions do you draw from these plots?"
   ]
  },
  {
   "cell_type": "code",
   "execution_count": 1,
   "metadata": {
    "collapsed": false
   },
   "outputs": [
    {
     "data": {
      "text/html": [
       "<div>\n",
       "<table border=\"1\" class=\"dataframe\">\n",
       "  <thead>\n",
       "    <tr style=\"text-align: right;\">\n",
       "      <th></th>\n",
       "      <th>YEAR</th>\n",
       "      <th>LOGIP</th>\n",
       "      <th>LOGCLI</th>\n",
       "      <th>GIP</th>\n",
       "      <th>GCLI</th>\n",
       "    </tr>\n",
       "  </thead>\n",
       "  <tbody>\n",
       "    <tr>\n",
       "      <th>count</th>\n",
       "      <td>48.00</td>\n",
       "      <td>48.000000</td>\n",
       "      <td>48.000000</td>\n",
       "      <td>48.000000</td>\n",
       "      <td>48.000000</td>\n",
       "    </tr>\n",
       "    <tr>\n",
       "      <th>mean</th>\n",
       "      <td>1983.50</td>\n",
       "      <td>4.100628</td>\n",
       "      <td>4.045164</td>\n",
       "      <td>0.030241</td>\n",
       "      <td>0.024535</td>\n",
       "    </tr>\n",
       "    <tr>\n",
       "      <th>std</th>\n",
       "      <td>14.00</td>\n",
       "      <td>0.405069</td>\n",
       "      <td>0.334690</td>\n",
       "      <td>0.045182</td>\n",
       "      <td>0.052205</td>\n",
       "    </tr>\n",
       "    <tr>\n",
       "      <th>min</th>\n",
       "      <td>1960.00</td>\n",
       "      <td>3.207248</td>\n",
       "      <td>3.437208</td>\n",
       "      <td>-0.087810</td>\n",
       "      <td>-0.157734</td>\n",
       "    </tr>\n",
       "    <tr>\n",
       "      <th>25%</th>\n",
       "      <td>1971.75</td>\n",
       "      <td>3.831335</td>\n",
       "      <td>3.784190</td>\n",
       "      <td>0.010241</td>\n",
       "      <td>-0.013091</td>\n",
       "    </tr>\n",
       "    <tr>\n",
       "      <th>50%</th>\n",
       "      <td>1983.50</td>\n",
       "      <td>4.088133</td>\n",
       "      <td>3.960697</td>\n",
       "      <td>0.033641</td>\n",
       "      <td>0.034826</td>\n",
       "    </tr>\n",
       "    <tr>\n",
       "      <th>75%</th>\n",
       "      <td>1995.25</td>\n",
       "      <td>4.416749</td>\n",
       "      <td>4.309325</td>\n",
       "      <td>0.059519</td>\n",
       "      <td>0.052896</td>\n",
       "    </tr>\n",
       "    <tr>\n",
       "      <th>max</th>\n",
       "      <td>2007.00</td>\n",
       "      <td>4.722438</td>\n",
       "      <td>4.648230</td>\n",
       "      <td>0.118039</td>\n",
       "      <td>0.114645</td>\n",
       "    </tr>\n",
       "  </tbody>\n",
       "</table>\n",
       "</div>"
      ],
      "text/plain": [
       "          YEAR      LOGIP     LOGCLI        GIP       GCLI\n",
       "count    48.00  48.000000  48.000000  48.000000  48.000000\n",
       "mean   1983.50   4.100628   4.045164   0.030241   0.024535\n",
       "std      14.00   0.405069   0.334690   0.045182   0.052205\n",
       "min    1960.00   3.207248   3.437208  -0.087810  -0.157734\n",
       "25%    1971.75   3.831335   3.784190   0.010241  -0.013091\n",
       "50%    1983.50   4.088133   3.960697   0.033641   0.034826\n",
       "75%    1995.25   4.416749   4.309325   0.059519   0.052896\n",
       "max    2007.00   4.722438   4.648230   0.118039   0.114645"
      ]
     },
     "execution_count": 1,
     "metadata": {},
     "output_type": "execute_result"
    }
   ],
   "source": [
    "%matplotlib inline\n",
    "import sys\n",
    "sys.path.append('/Users/CJ/Documents/bitbucket/xforex_v1/xforex_v3')\n",
    "import pandas as pd\n",
    "import matplotlib.pyplot as plt\n",
    "from datetime import datetime\n",
    "from xforex.BackTesting.econometrics_tools import Econometrics_Tool\n",
    "import numpy as np\n",
    "import pprint as pp\n",
    "import statsmodels.tsa.stattools as ts\n",
    "from statsmodels.tsa.ar_model import AR\n",
    "import pandas \n",
    "\n",
    "dat = pd.read_csv(\n",
    "        '/Users/CJ/Documents/bitbucket/xforex_v1/xforex_v3/training/econometrics/week6-time-series/TrainExer65.txt',sep = '\\t')\n",
    "# dat.columns = ['YEAR','LOGIP','LOGCLI','GIP','GCLI']\n",
    "\n",
    "dat.describe()"
   ]
  },
  {
   "cell_type": "code",
   "execution_count": 2,
   "metadata": {
    "collapsed": false
   },
   "outputs": [
    {
     "name": "stdout",
     "output_type": "stream",
     "text": [
      "perhaps cointegration?\n",
      "stationary?\n"
     ]
    },
    {
     "data": {
      "image/png": "[encoded data removed]",
      "text/plain": [
       "<matplotlib.figure.Figure at 0x1148b3310>"
      ]
     },
     "metadata": {},
     "output_type": "display_data"
    }
   ],
   "source": [
    "plt.figure(1, figsize=(14, 6))\n",
    "plt.subplot(2,2,1)\n",
    "plt.plot(dat['YEAR'],dat['LOGIP'],label = 'LOGIP')\n",
    "plt.plot(dat['YEAR'],dat['LOGCLI'],label = 'LOGCLI')\n",
    "plt.legend(loc='best')\n",
    "\n",
    "plt.subplot(2,2,3)\n",
    "plt.plot(dat['YEAR'],dat['GIP'],label = 'GIP')\n",
    "plt.legend(loc='best')\n",
    "\n",
    "plt.subplot(2,2,4)\n",
    "plt.plot(dat['YEAR'],dat['GCLI'],label = 'GCLI')\n",
    "plt.legend(loc='best')\n",
    "\n",
    "print 'perhaps cointegration?'\n",
    "print 'stationary?'"
   ]
  },
  {
   "cell_type": "markdown",
   "metadata": {},
   "source": [
    "#### Question(b)  \n",
    "(i) Perform the Augmented Dickey-Fuller (ADF) test for log(IP). In the ADF test equation, include (among\n",
    "others) a constant (α), a deterministic trend term (βt), and two lags of GIP = ∆log(IP). \n",
    "Report the coefficient of log(IPt−1) and its standard error and t-value, and draw your conclusion.\n",
    "\n",
    "(ii) Perform a similar ADF test for log(CLI).\n",
    "Note that the 5% critical value differs from the usual one, see lecture 6.3\n"
   ]
  },
  {
   "cell_type": "code",
   "execution_count": 3,
   "metadata": {
    "collapsed": false
   },
   "outputs": [
    {
     "name": "stdout",
     "output_type": "stream",
     "text": [
      "{'GCLI': (-6.7694955155160716,\n",
      "          2.6641738968907438e-09,\n",
      "          1,\n",
      "          46,\n",
      "          {'1%': -3.5812576580093696,\n",
      "           '10%': -2.6015409829867675,\n",
      "           '5%': -2.9267849124681518},\n",
      "          -141.63651672371026),\n",
      " 'GIP': (-5.316670620088729,\n",
      "         5.0566574986640179e-06,\n",
      "         1,\n",
      "         46,\n",
      "         {'1%': -3.5812576580093696,\n",
      "          '10%': -2.6015409829867675,\n",
      "          '5%': -2.9267849124681518},\n",
      "         -155.4722336793966),\n",
      " 'LOGCLI': (-1.8607359423507663,\n",
      "            0.6747626050953115,\n",
      "            2,\n",
      "            45,\n",
      "            {'1%': -4.1754607270233199,\n",
      "             '10%': -3.186691646090535,\n",
      "             '5%': -3.5130145980795611}),\n",
      " 'LOGIP': (-3.8223080382643491,\n",
      "           0.015464883585730409,\n",
      "           2,\n",
      "           45,\n",
      "           {'1%': -4.1754607270233199,\n",
      "            '10%': -3.186691646090535,\n",
      "            '5%': -3.5130145980795611})}\n"
     ]
    }
   ],
   "source": [
    "result = {}\n",
    "result['LOGCLI'] = ts.adfuller(dat['LOGCLI'], regression = 'ct', maxlag = 2, autolag = None) # maxlag is now set to 1\n",
    "result['LOGIP'] = ts.adfuller(dat['LOGIP'], regression = 'ct', maxlag = 2 , autolag = None) # maxlag is now set to 1\n",
    "result['GCLI'] = ts.adfuller(dat['GCLI'], regression = 'c', maxlag = 3) # maxlag is now set to 1\n",
    "result['GIP'] = ts.adfuller(dat['GIP'], regression = 'c', maxlag = 3 ) # maxlag is now set to 1\n",
    "pp.pprint(result)"
   ]
  },
  {
   "cell_type": "markdown",
   "metadata": {},
   "source": [
    "#### Question(c) \n",
    "Perform the two-step Engle-Granger test for cointegration of the time series log(IP) and log(CLI). The secondstep\n",
    "regression is of the type $$∆e_t = α + βt + ρe_{t−1} + β_1∆e_{t−1} + β_2∆e_{t−2} + ω_t$$\n",
    ", where et are the residuals of\n",
    "step 1. What is your conclusion?\n",
    "Note that the 5% critical value differs from the usual one, see lecture 6.3\n",
    "\n",
    "**ans:** p value = 0.62362808086207744, not significant at 5% level.\n",
    "model_coint.resid is not stationary so x and y are not cointegration\n"
   ]
  },
  {
   "cell_type": "code",
   "execution_count": 4,
   "metadata": {
    "collapsed": false
   },
   "outputs": [
    {
     "name": "stdout",
     "output_type": "stream",
     "text": [
      "(-1.9589064514569963,\n",
      " 0.62362808086207744,\n",
      " 2,\n",
      " 45,\n",
      " {'1%': -4.1754607270233199,\n",
      "  '10%': -3.186691646090535,\n",
      "  '5%': -3.5130145980795611})\n"
     ]
    }
   ],
   "source": [
    "# engle-Granger test on cointegration\n",
    "model_coint = Econometrics_Tool().linear_fit(x = dat['LOGCLI'], y = dat['LOGIP'])\n",
    "result['cointegration'] = ts.adfuller(model_coint.resid, regression = 'ct', maxlag = 2, autolag = None) # maxlag is now set to 1\n",
    "pp.pprint(result['cointegration'])"
   ]
  },
  {
   "cell_type": "markdown",
   "metadata": {},
   "source": [
    "#### Question(d) \n",
    "Perform two F-tests, one for the Granger causality of GIP for GCLI and the other for the Granger causality of\n",
    "GCLI for GIP. Include a constant and two lags of both variables in the test equations. Report the degrees of\n",
    "freedom and the numerical values of the two F-tests, and draw your conclusion. The relevant 5% critical value\n",
    "is 3.3."
   ]
  },
  {
   "cell_type": "code",
   "execution_count": 5,
   "metadata": {
    "collapsed": false
   },
   "outputs": [
    {
     "name": "stdout",
     "output_type": "stream",
     "text": [
      "\n",
      "\n",
      "***********************************************\n",
      " GIP => GCLI ????\n",
      "\n",
      "Granger Causality\n",
      "('number of lags (no zero)', 1)\n",
      "ssr based F test:         F=19.3301 , p=0.0001  , df_denom=44, df_num=1\n",
      "ssr based chi2 test:   chi2=20.6480 , p=0.0000  , df=1\n",
      "likelihood ratio test: chi2=17.1160 , p=0.0000  , df=1\n",
      "parameter F test:         F=19.3301 , p=0.0001  , df_denom=44, df_num=1\n",
      "\n",
      "Granger Causality\n",
      "('number of lags (no zero)', 2)\n",
      "ssr based F test:         F=3.1351  , p=0.0541  , df_denom=41, df_num=2\n",
      "ssr based chi2 test:   chi2=7.0348  , p=0.0297  , df=2\n",
      "likelihood ratio test: chi2=6.5461  , p=0.0379  , df=2\n",
      "parameter F test:         F=3.1351  , p=0.0541  , df_denom=41, df_num=2\n",
      "{1: ({'lrtest': (17.11601252349584, 3.5164580057876654e-05, 1),\n",
      "      'params_ftest': (19.330060962325803, 6.8639847782403542e-05, 44.0, 1),\n",
      "      'ssr_chi2test': (20.64801966430257, 5.5194245649783322e-06, 1),\n",
      "      'ssr_ftest': (19.330060962325813, 6.8639847782403312e-05, 44.0, 1)},\n",
      "     [<statsmodels.regression.linear_model.RegressionResultsWrapper object at 0x11491dcd0>,\n",
      "      <statsmodels.regression.linear_model.RegressionResultsWrapper object at 0x11491ded0>,\n",
      "      array([[ 0.,  1.,  0.]])]),\n",
      " 2: ({'lrtest': (6.5461436970008435, 0.037889856224818969, 2),\n",
      "      'params_ftest': (3.1350872977612831, 0.054079333626660057, 41.0, 2),\n",
      "      'ssr_chi2test': (7.0348300340009526, 0.02967604818360654, 2),\n",
      "      'ssr_ftest': (3.1350872977612938, 0.054079333626659488, 41.0, 2)},\n",
      "     [<statsmodels.regression.linear_model.RegressionResultsWrapper object at 0x10410fcd0>,\n",
      "      <statsmodels.regression.linear_model.RegressionResultsWrapper object at 0x10410f7d0>,\n",
      "      array([[ 0.,  0.,  1.,  0.,  0.],\n",
      "       [ 0.,  0.,  0.,  1.,  0.]])])}\n",
      "\n",
      "\n",
      "***********************************************\n",
      " GCLI => GIP????\n",
      "\n",
      "Granger Causality\n",
      "('number of lags (no zero)', 1)\n",
      "ssr based F test:         F=25.7404 , p=0.0000  , df_denom=44, df_num=1\n",
      "ssr based chi2 test:   chi2=27.4954 , p=0.0000  , df=1\n",
      "likelihood ratio test: chi2=21.6477 , p=0.0000  , df=1\n",
      "parameter F test:         F=25.7404 , p=0.0000  , df_denom=44, df_num=1\n",
      "\n",
      "Granger Causality\n",
      "('number of lags (no zero)', 2)\n",
      "ssr based F test:         F=13.2708 , p=0.0000  , df_denom=41, df_num=2\n",
      "ssr based chi2 test:   chi2=29.7783 , p=0.0000  , df=2\n",
      "likelihood ratio test: chi2=22.9619 , p=0.0000  , df=2\n",
      "parameter F test:         F=13.2708 , p=0.0000  , df_denom=41, df_num=2\n",
      "{1: ({'lrtest': (21.647718897057246, 3.2759936661985256e-06, 1),\n",
      "      'params_ftest': (25.740373558981833, 7.5609638472121275e-06, 44.0, 1),\n",
      "      'ssr_chi2test': (27.495399028912416, 1.5746866953835316e-07, 1),\n",
      "      'ssr_ftest': (25.740373558981837, 7.560963847212097e-06, 44.0, 1)},\n",
      "     [<statsmodels.regression.linear_model.RegressionResultsWrapper object at 0x11491ddd0>,\n",
      "      <statsmodels.regression.linear_model.RegressionResultsWrapper object at 0x11491dd50>,\n",
      "      array([[ 0.,  1.,  0.]])]),\n",
      " 2: ({'lrtest': (22.961872447090911, 1.0325063969476182e-05, 2),\n",
      "      'params_ftest': (13.270783199579901, 3.5963415470409969e-05, 41.0, 2),\n",
      "      'ssr_chi2test': (29.778342789301245, 3.4175511490517527e-07, 2),\n",
      "      'ssr_ftest': (13.270783199579901, 3.5963415470409969e-05, 41.0, 2)},\n",
      "     [<statsmodels.regression.linear_model.RegressionResultsWrapper object at 0x11491df10>,\n",
      "      <statsmodels.regression.linear_model.RegressionResultsWrapper object at 0x10410f590>,\n",
      "      array([[ 0.,  0.,  1.,  0.,  0.],\n",
      "       [ 0.,  0.,  0.,  1.,  0.]])])}\n"
     ]
    }
   ],
   "source": [
    "print '\\n\\n***********************************************\\n GIP => GCLI ????'\n",
    "pp.pprint(ts.grangercausalitytests(dat[['GCLI', 'GIP']], maxlag= 2))\n",
    "\n",
    "print '\\n\\n***********************************************\\n GCLI => GIP????'\n",
    "pp.pprint(ts.grangercausalitytests(dat[['GIP', 'GCLI']], maxlag= 2))"
   ]
  },
  {
   "cell_type": "markdown",
   "metadata": {},
   "source": [
    "#### Question(e) \n",
    "Show that the coefficients of both lags in an AR(2) model for GIP are insignificant. Show also that even the\n",
    "slope coefficient in the \n",
    "AR(1) model $$ GIP_t = α + βGIP_{t−1} + ε_t $$ \n",
    "is insignificant. Make two forecasts for GIP for the five years from 2003-2007, one from the AR(1) model and another from the simple model \n",
    "$$ GIP_t = α + ε_t $$"
   ]
  },
  {
   "cell_type": "code",
   "execution_count": 31,
   "metadata": {
    "collapsed": false
   },
   "outputs": [
    {
     "name": "stdout",
     "output_type": "stream",
     "text": [
      "const     0.000964\n",
      "L1.GIP    0.092944\n",
      "L2.GIP    0.106898\n",
      "dtype: float64\n",
      "const     0.000446\n",
      "L1.GIP    0.451921\n",
      "dtype: float64\n",
      "2003-01-01    0.032738\n",
      "2004-01-01    0.033540\n",
      "2005-01-01    0.033631\n",
      "2006-01-01    0.033641\n",
      "2007-01-01    0.033642\n",
      "Freq: AS-JAN, dtype: float64\n",
      "const    0.000019\n",
      "dtype: float64\n",
      "2003-01-01    0.031118\n",
      "2004-01-01    0.031118\n",
      "2005-01-01    0.031118\n",
      "2006-01-01    0.031118\n",
      "2007-01-01    0.031118\n",
      "Freq: AS-JAN, dtype: float64\n"
     ]
    }
   ],
   "source": [
    "dates = dat['YEAR'].map(lambda x: datetime.strptime(str(x), '%Y'))\n",
    "signal = pd.DataFrame({'GIP': dat['GIP']})\n",
    "signal.index= pandas.Index(dates)\n",
    "ar_mod2 = AR(signal[:'2002']).fit(maxlag=2)\n",
    "ar_mod1 = AR(signal[:'2002']).fit(maxlag=1)\n",
    "ar_mod0 = AR(signal[:'2002']).fit(maxlag=0)\n",
    "\n",
    "print ar_mod2.pvalues\n",
    "print ar_mod1.pvalues\n",
    "print ar_mod1.predict('2003-01-01', '2007-01-01', dynamic=True)\n",
    "\n",
    "print ar_mod0.pvalues\n",
    "print ar_mod0.predict('2003-01-01', '2007-01-01', dynamic=True)\n",
    "# print ar_res1.predict('2003-01-01', '2007-01-01', dynamic=True)\n"
   ]
  },
  {
   "cell_type": "markdown",
   "metadata": {},
   "source": [
    "#### Question(f) \n",
    "Estimate the ADL(2,2) model $$GIP_t = α + β_1GIP_{t−1} + β_2GIP_{t−2} + γ_1GCLI_{t−1} + γ_2GCLI_{t−2} + ε_t $$\n",
    ", and show by means of an F-test that the null hypothesis that β1 = β2 = γ2 = 0 is not rejected. Then estimate the ADL(0,1) model $$ GIP_t = α + γGCLI_{t−1} + ε_t $$and use this model to forecast GIP for the five years from 2003-2007."
   ]
  },
  {
   "cell_type": "code",
   "execution_count": 40,
   "metadata": {
    "collapsed": false
   },
   "outputs": [
    {
     "name": "stdout",
     "output_type": "stream",
     "text": [
      "[ 0.04098514  0.05330444  0.04466013  0.02946193  0.01960802]\n",
      "1.75962126526\n",
      "0.827674509873\n"
     ]
    },
    {
     "data": {
      "text/html": [
       "<table class=\"simpletable\">\n",
       "<caption>OLS Regression Results</caption>\n",
       "<tr>\n",
       "  <th>Dep. Variable:</th>           <td>GIP</td>       <th>  R-squared:         </th> <td>   0.396</td>\n",
       "</tr>\n",
       "<tr>\n",
       "  <th>Model:</th>                   <td>OLS</td>       <th>  Adj. R-squared:    </th> <td>   0.380</td>\n",
       "</tr>\n",
       "<tr>\n",
       "  <th>Method:</th>             <td>Least Squares</td>  <th>  F-statistic:       </th> <td>   25.52</td>\n",
       "</tr>\n",
       "<tr>\n",
       "  <th>Date:</th>             <td>Tue, 20 Sep 2016</td> <th>  Prob (F-statistic):</th> <td>1.06e-05</td>\n",
       "</tr>\n",
       "<tr>\n",
       "  <th>Time:</th>                 <td>13:32:08</td>     <th>  Log-Likelihood:    </th> <td>  80.348</td>\n",
       "</tr>\n",
       "<tr>\n",
       "  <th>No. Observations:</th>      <td>    41</td>      <th>  AIC:               </th> <td>  -156.7</td>\n",
       "</tr>\n",
       "<tr>\n",
       "  <th>Df Residuals:</th>          <td>    39</td>      <th>  BIC:               </th> <td>  -153.3</td>\n",
       "</tr>\n",
       "<tr>\n",
       "  <th>Df Model:</th>              <td>     1</td>      <th>                     </th>     <td> </td>   \n",
       "</tr>\n",
       "<tr>\n",
       "  <th>Covariance Type:</th>      <td>nonrobust</td>    <th>                     </th>     <td> </td>   \n",
       "</tr>\n",
       "</table>\n",
       "<table class=\"simpletable\">\n",
       "<tr>\n",
       "      <td></td>        <th>coef</th>     <th>std err</th>      <th>t</th>      <th>P>|t|</th> <th>[95.0% Conf. Int.]</th> \n",
       "</tr>\n",
       "<tr>\n",
       "  <th>const</th>    <td>    0.0186</td> <td>    0.006</td> <td>    3.102</td> <td> 0.004</td> <td>    0.006     0.031</td>\n",
       "</tr>\n",
       "<tr>\n",
       "  <th>GCLIlag1</th> <td>    0.5074</td> <td>    0.100</td> <td>    5.052</td> <td> 0.000</td> <td>    0.304     0.711</td>\n",
       "</tr>\n",
       "</table>\n",
       "<table class=\"simpletable\">\n",
       "<tr>\n",
       "  <th>Omnibus:</th>       <td> 0.839</td> <th>  Durbin-Watson:     </th> <td>   2.062</td>\n",
       "</tr>\n",
       "<tr>\n",
       "  <th>Prob(Omnibus):</th> <td> 0.657</td> <th>  Jarque-Bera (JB):  </th> <td>   0.785</td>\n",
       "</tr>\n",
       "<tr>\n",
       "  <th>Skew:</th>          <td> 0.031</td> <th>  Prob(JB):          </th> <td>   0.675</td>\n",
       "</tr>\n",
       "<tr>\n",
       "  <th>Kurtosis:</th>      <td> 2.325</td> <th>  Cond. No.          </th> <td>    18.4</td>\n",
       "</tr>\n",
       "</table>"
      ],
      "text/plain": [
       "<class 'statsmodels.iolib.summary.Summary'>\n",
       "\"\"\"\n",
       "                            OLS Regression Results                            \n",
       "==============================================================================\n",
       "Dep. Variable:                    GIP   R-squared:                       0.396\n",
       "Model:                            OLS   Adj. R-squared:                  0.380\n",
       "Method:                 Least Squares   F-statistic:                     25.52\n",
       "Date:                Tue, 20 Sep 2016   Prob (F-statistic):           1.06e-05\n",
       "Time:                        13:32:08   Log-Likelihood:                 80.348\n",
       "No. Observations:                  41   AIC:                            -156.7\n",
       "Df Residuals:                      39   BIC:                            -153.3\n",
       "Df Model:                           1                                         \n",
       "Covariance Type:            nonrobust                                         \n",
       "==============================================================================\n",
       "                 coef    std err          t      P>|t|      [95.0% Conf. Int.]\n",
       "------------------------------------------------------------------------------\n",
       "const          0.0186      0.006      3.102      0.004         0.006     0.031\n",
       "GCLIlag1       0.5074      0.100      5.052      0.000         0.304     0.711\n",
       "==============================================================================\n",
       "Omnibus:                        0.839   Durbin-Watson:                   2.062\n",
       "Prob(Omnibus):                  0.657   Jarque-Bera (JB):                0.785\n",
       "Skew:                           0.031   Prob(JB):                        0.675\n",
       "Kurtosis:                       2.325   Cond. No.                         18.4\n",
       "==============================================================================\n",
       "\n",
       "Warnings:\n",
       "[1] Standard Errors assume that the covariance matrix of the errors is correctly specified.\n",
       "\"\"\""
      ]
     },
     "execution_count": 40,
     "metadata": {},
     "output_type": "execute_result"
    }
   ],
   "source": [
    "import statsmodels.api as sm\n",
    "from statsmodels.tsa.tsatools import lagmat\n",
    "import scipy\n",
    "GIP2 = lagmat(dat['GIP'], maxlag=2, trim ='Both')\n",
    "GCLI2 = lagmat(dat['GCLI'], maxlag=2, trim ='Both')\n",
    "\n",
    "\n",
    "adl_dat = pd.DataFrame(columns=['GIP','GIPlag1', 'GIPlag2', 'GCLIlag1', 'GCLIlag2'])\n",
    "dates = dat['YEAR'].map(lambda x: datetime.strptime(str(x), '%Y'))\n",
    "\n",
    "\n",
    "adl_dat['GIP'] = dat['GIP'][2:]\n",
    "adl_dat.index= pandas.Index(dates[2:])\n",
    "adl_dat['GIPlag1'] = GIP2[:,0]\n",
    "adl_dat['GIPlag2'] = GIP2[:,1]\n",
    "adl_dat['GCLIlag1'] = GCLI2[:,0]\n",
    "adl_dat['GCLIlag2'] = GCLI2[:,1]\n",
    "\n",
    "X = sm.add_constant(adl_dat[['GIPlag1','GIPlag2','GCLIlag1','GCLIlag2']]['1960':'2002'])\n",
    "y = adl_dat['GIP']['1960':'2002']\n",
    "adl22 = sm.OLS(y,X).fit()\n",
    "\n",
    "X = sm.add_constant(adl_dat[['GCLIlag1']]['1960':'2002'])\n",
    "y = adl_dat.GIP['1960':'2002']\n",
    "adl01 = sm.OLS(y,X).fit()\n",
    "\n",
    "## f test:\n",
    "g = 3\n",
    "n=41 \n",
    "k = 5\n",
    "F_stat = (adl22.rsquared - adl01.rsquared)/g/((adl22.rsquared )/(n-k))\n",
    "print F_stat\n",
    "print scipy.stats.f.cdf(F_stat, g, n-k)\n",
    "# don't reject the simple model\n",
    "\n",
    "\n",
    "print adl01.predict(sm.add_constant(adl_dat[['GCLIlag1']]['2003':'2007']))\n",
    "\n",
    "\n",
    "adl01.summary()"
   ]
  },
  {
   "cell_type": "markdown",
   "metadata": {},
   "source": [
    "#### Question(g) \n",
    "Compare the three series of forecasts of parts (e) and (f) by computing their values of the root mean squared\n",
    "error (RMSE), mean absolute error (MAE), and the sum of the forecast errors (SUM). Check that it seems\n",
    "quite difficult to forecast the IP growth rates for 2003-2007 from models estimated from 1960-2002. Can you\n",
    "think of possible reasons why this is the case?"
   ]
  },
  {
   "cell_type": "code",
   "execution_count": 98,
   "metadata": {
    "collapsed": false
   },
   "outputs": [
    {
     "name": "stdout",
     "output_type": "stream",
     "text": [
      "0.0128514633989\n",
      "0.0107354166546\n",
      "0.0536770832729\n"
     ]
    },
    {
     "data": {
      "text/plain": [
       "<matplotlib.legend.Legend at 0x116e91ed0>"
      ]
     },
     "execution_count": 98,
     "metadata": {},
     "output_type": "execute_result"
    },
    {
     "data": {
      "image/png": "[encoded data removed]",
      "text/plain": [
       "<matplotlib.figure.Figure at 0x11762d390>"
      ]
     },
     "metadata": {},
     "output_type": "display_data"
    }
   ],
   "source": [
    "import math\n",
    "def rmse(y_fitted, y_true):\n",
    "    sub = np.array([a-b for a,b in zip(y_fitted, y_true)])\n",
    "    return math.sqrt(sum((sub)**2)/len(y_fitted))\n",
    "def mae(y_fitted, y_true):\n",
    "    sub = np.array([a-b for a,b in zip(y_fitted, y_true)])\n",
    "    return sum(abs(sub)/len(y_fitted))\n",
    "\n",
    "def SumOfError(y_fitted, y_true):\n",
    "    '''\n",
    "    sum of forcast errors\n",
    "    '''\n",
    "    sub = np.array([a-b for a,b in zip(y_fitted, y_true)])\n",
    "    return sum(sub)\n",
    "    \n",
    "A = ar_mod1.predict('2003-01-01', '2007-01-01', dynamic=True)\n",
    "B = signal['2003-01-01':'2007-01-01']\n",
    "               \n",
    "print rmse(list(A.values),list(B['GIP'].values))  \n",
    "\n",
    "print mae(list(A.values),list(B['GIP'].values))  \n",
    "\n",
    "print SumOfError(list(A.values),list(B['GIP'].values))  \n",
    "\n",
    "#[a - b for a, b in zip(A, B)]\n",
    "\n",
    "# math.sqrt(sum(np.array([a-b for a,b in zip(list(A.values),list(B['GIP'].values))])**2))\n",
    "plt.figure(1, figsize=(14, 6))\n",
    "plt.plot(adl_dat[['GCLIlag1']]['2003':'2007'], adl_dat[['GIP']]['2003':'2007'], 'ro', label= \"2003-2007\")\n",
    "plt.plot(adl_dat[['GCLIlag1']][:'2002'], adl_dat[['GIP']][:'2002'], 'b-', label = '1960-2002')\n",
    "plt.xlabel('GLIC-lag1')\n",
    "plt.ylabel('GIP')\n",
    "plt.legend(loc= 'best')\n",
    "# from the figure GIP is flat and GLIC is flutuating\n",
    "# indicate a structure change"
   ]
  },
  {
   "cell_type": "code",
   "execution_count": 79,
   "metadata": {
    "collapsed": false
   },
   "outputs": [
    {
     "data": {
      "text/plain": [
       "1.2"
      ]
     },
     "execution_count": 79,
     "metadata": {},
     "output_type": "execute_result"
    }
   ],
   "source": [
    "abs(-1.2)"
   ]
  },
  {
   "cell_type": "code",
   "execution_count": 43,
   "metadata": {
    "collapsed": false
   },
   "outputs": [
    {
     "data": {
      "text/plain": [
       "1.4142135623730951"
      ]
     },
     "execution_count": 43,
     "metadata": {},
     "output_type": "execute_result"
    }
   ],
   "source": [
    "import math\n",
    "math.sqrt(2)"
   ]
  },
  {
   "cell_type": "code",
   "execution_count": null,
   "metadata": {
    "collapsed": false
   },
   "outputs": [],
   "source": [
    "## ADT: Augmented Dickey–Fuller test for stationary\n",
    "\n",
    "# import numpy as np\n",
    "# import statsmodels.tsa.stattools as ts\n",
    "# import pprint as pp\n",
    "\n",
    "# result = {}\n",
    "# adf_logip_df = pd.DataFrame()\n",
    "# adf_logip_df['YEAR'] = dat['YEAR'] #-dat['YEAR'][0]\n",
    "# adf_logip_df['LOGIP_1'] = dat['LOGIP'].shift(1)\n",
    "# adf_logip_df['GIP_1'] = dat['LOGIP'].diff(1)\n",
    "# adf_logip_df['GIP_2'] = dat['LOGIP'].diff(2)\n",
    "# # adf_logip_df['GIP_1'] = dat['GIP'].shift(1)\n",
    "# # adf_logip_df['GIP_2'] = dat['GIP'].shift(2)\n",
    "# # adf_logip_df['GIP_3'] = dat['GIP'].shift(3)\n",
    "\n",
    "# adf_logip_model = Econometrics_Tool().linear_fit(x = adf_logip_df[3:], y = dat['GIP'][3:])\n",
    "# adf_logip_model.summary()\n"
   ]
  }
 ],
 "metadata": {
  "kernelspec": {
   "display_name": "Python 2",
   "language": "python",
   "name": "python2"
  },
  "language_info": {
   "codemirror_mode": {
    "name": "ipython",
    "version": 2
   },
   "file_extension": ".py",
   "mimetype": "text/x-python",
   "name": "python",
   "nbconvert_exporter": "python",
   "pygments_lexer": "ipython2",
   "version": "2.7.11"
  }
 },
 "nbformat": 4,
 "nbformat_minor": 0
}
