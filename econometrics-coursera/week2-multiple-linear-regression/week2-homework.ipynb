{
 "cells": [
  {
   "cell_type": "markdown",
   "metadata": {},
   "source": [
    "## Test Exercise 2\n",
    "Notes:\n",
    "• See website for how to submit your answers and how feedback is organized.\n",
    "• For parts (e) and (f), you need regression results discussed in Lectures 2.1 and 2.5.\n",
    "Goals and skills being used:\n",
    "• Use matrix methods in the econometric analysis of multiple regression.\n",
    "• Employ matrices and statical methods in multiple regression analysis.\n",
    "• Give numerical verification of mathematical results.\n",
    "Questions\n",
    "This test exercise is of a theoretical nature. In our discussion of the F-test, the total set of explanatory factors was\n",
    "split in two parts. The factors in X1 are always included in the model, whereas those in X2 are possibly removed.\n",
    "In questions (a), (b), and (c) you derive relations between the two OLS estimates of the effects of X1 on y, one in\n",
    "the large model and the other in the small model. In parts (d), (e), and (f), you check the relation of question (c)\n",
    "numerically for the wage data of our lectures.\n",
    "We use the notation of Lecture 2.4.2 and assume that the standard regression assumptions A1-A6 are satisfied for\n",
    "the unrestricted model. The restricted model is obtained by deleting the set of g explanatory factors collected in\n",
    "the last g columns X2 of X. We wrote the model with X = (X1 X2) and corresponding partitioning of the OLS\n",
    "estimator b in b1 and b2 as $$y = X_1β_1 + X_2β_2 + ε = X_1b_1 + X_2b_2 + e$$. We denote by bR the OLS estimator of β1\n",
    "obtained by regressing y on X1, so that $$b_R = (X_1'X_1)^{-1}X_1'y$$\n",
    "Further, let $$P = (X_1'X_1)^{−1}X_1X_2$$\n",
    "(a) Prove that $$E(b_R) = β1 + Pβ2$$.\n",
    "(b) Prove that $$var(b_R) = σ2(X_1'X1)^{-1}$$\n",
    "(c) Prove that $$b_R = b_1 + Pb_2$$ \n",
    "Now consider the wage data of Lectures 2.1 and 2.5. Let y be log-wage (500×1 vector), and let X1 be the (500×2)\n",
    "matrix for the constant term and the variable ‘Female’. Further let X2 be the (500 × 3) matrix with observations\n",
    "of the variables ‘Age’, ‘Educ’ and ‘Parttime’. The values of bR were given in Lecture 2.1, and those of b in Lecture\n",
    "2.5.\n",
    "(d) Argue that the columns of the (2 × 3) matrix P are obtained by regressing each of the variables ‘Age’, ‘Educ’,\n",
    "and ‘Parttime’ on a constant term and the variable ‘Female’.\n",
    "(e) Determine the values of P from the results in Lecture 2.1.\n",
    "(f) Check the numerical validity of the result in part (c). Note: This equation will not hold exactly because the\n",
    "coefficients have been rounded to two or three decimals; preciser results would have been obtained for higher\n",
    "precision coefficients."
   ]
  },
  {
   "cell_type": "markdown",
   "metadata": {},
   "source": [
    "(a) Prove that $$E(b_R) = β1 + Pβ2$$\n",
    "\n",
    "since $$b_R = X_1'X_1^{-1}X_1'y$$\n",
    " $$\n",
    "E(b_R) = E( (X_1'X_1)^{-1}X_1'y) \\\\\n",
    "= E((X_1'X_1)^{-1}X_1'( X_1β_1 + X_2β_2 + ε)) \\\\\n",
    "= E((X_1'X_1)^{-1}X_1'X_1β_1 + (X_1'X_1)^{-1}X_1'X_2β_2 + (X_1'X_1)^{-1}X_1'ε))......(1)$$ \n",
    "\n",
    "$$(X_1'X_1)^{-1}X_1'X_1 = I ......(2)$$ \n",
    "$$P = (X_1'X_1)^{−1}X_1X_2 ......(3)$$ \n",
    "$$E(ε) = 0 .....(A3)$$ \n",
    "\n",
    "X are not random ....(A2)\n",
    "\n",
    "since (2),(3),A(2), A（3）\n",
    "\n",
    "$$ (1) = E(β_1 + Pβ_2)+(X_1'X_1)^{-1}X_1'E(ε) =β1 + Pβ2 $$"
   ]
  },
  {
   "cell_type": "markdown",
   "metadata": {},
   "source": [
    "(b) Prove that $$var(b_R) = σ2(X_1'X1)^{-1}$$\n",
    "\n",
    "first,\n",
    "$$b_R = (X_1'X_1)^{-1}X_1'y = \\\\\n",
    "(X_1'X_1)^{-1}X_1'(X_1β_1 + X_2β_2 + ε)=\\\\\n",
    "β1 + Pβ_2 + (X_1'X_1)^{-1}X_1'ε = \\\\\n",
    "E(b_R)+(X_1'X_1)^{-1}X_1'ε\n",
    "$$\n",
    "then \n",
    "$$ b_R - E(b_R) = (X_1'X_1)^{-1}X_1'ε $$ \n",
    "\n",
    "$$var(b_R) = \\\\\n",
    "E((b_R-E(b_R))(b_R-E(b_R))')= \\\\\n",
    "E((X_1'X_1)^{-1}X_1'ε)((X_1'X_1)^{-1}X_1'ε)') = \\\\\n",
    "(X_1'X_1)^{-1}X_1'E(εε')X_1(X_1'X_1)^{-1} ....(1) \n",
    "$$\n",
    "since \n",
    "$$ E(εε') = σ^2.......A(4)$$\n",
    "$$ X_1'X_1(X_1'X_1)^{-1} = I ........(1)$$\n",
    "since A4 and (1)\n",
    "\n",
    "$$var(b_R) = σ2(X_1'X1)^{-1}$$\n"
   ]
  },
  {
   "cell_type": "markdown",
   "metadata": {},
   "source": [
    "(c) Prove that $$b_R = b_1 + Pb_2$$ \n",
    "$$ b_R = X_1'X_1^{-1}X_1'y \\\\\n",
    "=X_1'X_1^{-1}X_1'(X_1b_1 + X_2b_2 + e) = \\\\\n",
    "X_1'X_1^{-1}X_1'X_1β_1 + X_1'X_1^{-1}X_1'X_2β_2 + X_1'X_1^{-1}X_1'e  = \\\\\n",
    "b_1 + Pb_2 +  X_1'X_1^{-1}X_1'e .........(1)$$\n",
    "since least squares residuals are orthogonal\n",
    "to all regressors\n",
    "$$X_1'e = 0$$\n",
    "\n",
    "$$b_R = b_1 + Pb_2$$\n"
   ]
  },
  {
   "cell_type": "markdown",
   "metadata": {},
   "source": [
    "Now consider the wage data of Lectures 2.1 and 2.5. Let y be log-wage (500×1 vector), and let X1 be the (500×2) matrix for the constant term and the variable ‘Female’. Further let X2 be the (500 × 3) matrix with observations of the variables ‘Age’, ‘Educ’ and ‘Parttime’. The values of bR were given in Lecture 2.1, and those of b in Lecture 2.5.\n",
    "(d) Argue that the columns of the (2 × 3) matrix P are obtained by regressing each of the variables ‘Age’, ‘Educ’,and ‘Parttime’ on a constant term and the variable ‘Female’. \n",
    "\n",
    "**ans**: Equation $$b_R = (X_1'X_1)^{-1}X_1'y$$ is proved\n",
    "if we replace b_R to P and y into X2, the above equation will have the format as $$P = (X_1'X_1)^{−1}X_1X_2$$, which similar to regress each of the variables ‘Age’, ‘Educ’,and ‘Parttime’ on a constant term and the variable ‘Female."
   ]
  },
  {
   "cell_type": "markdown",
   "metadata": {},
   "source": [
    "(e) Determine the values of P from the results in Lecture 2.1."
   ]
  },
  {
   "cell_type": "code",
   "execution_count": 21,
   "metadata": {
    "collapsed": false
   },
   "outputs": [
    {
     "name": "stdout",
     "output_type": "stream",
     "text": [
      "                            OLS Regression Results                            \n",
      "==============================================================================\n",
      "Dep. Variable:                LogWage   R-squared:                       0.704\n",
      "Model:                            OLS   Adj. R-squared:                  0.702\n",
      "Method:                 Least Squares   F-statistic:                     294.3\n",
      "Date:                Fri, 09 Sep 2016   Prob (F-statistic):          2.51e-129\n",
      "Time:                        15:06:26   Log-Likelihood:                -4.1790\n",
      "No. Observations:                 500   AIC:                             18.36\n",
      "Df Residuals:                     495   BIC:                             39.43\n",
      "Df Model:                           4                                         \n",
      "Covariance Type:            nonrobust                                         \n",
      "==============================================================================\n",
      "                 coef    std err          t      P>|t|      [95.0% Conf. Int.]\n",
      "------------------------------------------------------------------------------\n",
      "const          3.0527      0.055     55.170      0.000         2.944     3.161\n",
      "Age            0.0306      0.001     24.041      0.000         0.028     0.033\n",
      "Educ           0.2332      0.011     21.873      0.000         0.212     0.254\n",
      "Parttime      -0.3654      0.032    -11.575      0.000        -0.427    -0.303\n",
      "Female        -0.0411      0.025     -1.662      0.097        -0.090     0.007\n",
      "==============================================================================\n",
      "Omnibus:                        0.968   Durbin-Watson:                   1.874\n",
      "Prob(Omnibus):                  0.616   Jarque-Bera (JB):                0.779\n",
      "Skew:                           0.001   Prob(JB):                        0.677\n",
      "Kurtosis:                       3.193   Cond. No.                         223.\n",
      "==============================================================================\n",
      "\n",
      "Warnings:\n",
      "[1] Standard Errors assume that the covariance matrix of the errors is correctly specified.\n",
      "P =\n",
      "[[  3.99402174e+01   1.76630435e+00   4.45652174e-01]\n",
      " [  1.10818021e-11   5.69766456e-13   7.70841724e-14]]\n"
     ]
    }
   ],
   "source": [
    "import sys\n",
    "sys.path.append('my_package')\n",
    "%matplotlib inline\n",
    "from numpy import matrix\n",
    "from numpy import linalg\n",
    "import pandas as pd\n",
    "\n",
    "\n",
    "dat = pd.read_csv('data/Dataset2.txt',\n",
    "                      sep='\\t')\n",
    "\n",
    "X = dat[['Age','Educ', 'Parttime','Female']]\n",
    "y = dat['LogWage']\n",
    "model = Econometrics_Tool().linear_fit(X, y)\n",
    "\n",
    "X1 = matrix([dat['Female'],model.resid]).T\n",
    "\n",
    "X2 =  matrix([dat['Age'], dat['Educ'], dat['Parttime']]).T\n",
    "print 'P ='\n",
    "P = (X1.T*X1).I*X1.T*X2\n",
    "print P"
   ]
  },
  {
   "cell_type": "markdown",
   "metadata": {
    "collapsed": true
   },
   "source": [
    "(f) Check the numerical validity of the result in part (c). Note: This equation will not hold exactly because the coefficients have been rounded to two or three decimals; preciser results would have been obtained for higher precision coefficients."
   ]
  },
  {
   "cell_type": "code",
   "execution_count": 25,
   "metadata": {
    "collapsed": false
   },
   "outputs": [
    {
     "name": "stdout",
     "output_type": "stream",
     "text": [
      "[[ 4.48302717]\n",
      " [ 1.        ]]\n",
      "[[ 4.52393152]\n",
      " [-0.0411    ]]\n"
     ]
    }
   ],
   "source": [
    "b_R = (X1.T*X1).I*X1.T*matrix(y).T\n",
    "print b_R\n",
    "\n",
    "b1 = matrix([3.0527, -0.0411]).T\n",
    "b2= matrix([0.0306,0.2332,-0.3654]).T\n",
    "\n",
    "print b1+P*b2"
   ]
  }
 ],
 "metadata": {
  "kernelspec": {
   "display_name": "Python 2",
   "language": "python",
   "name": "python2"
  },
  "language_info": {
   "codemirror_mode": {
    "name": "ipython",
    "version": 2.0
   },
   "file_extension": ".py",
   "mimetype": "text/x-python",
   "name": "python",
   "nbconvert_exporter": "python",
   "pygments_lexer": "ipython2",
   "version": "2.7.11"
  }
 },
 "nbformat": 4,
 "nbformat_minor": 0
}
